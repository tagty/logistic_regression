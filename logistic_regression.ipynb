{
 "cells": [
  {
   "cell_type": "code",
   "execution_count": 11,
   "metadata": {},
   "outputs": [
    {
     "data": {
      "text/html": "<div>\n<style scoped>\n    .dataframe tbody tr th:only-of-type {\n        vertical-align: middle;\n    }\n\n    .dataframe tbody tr th {\n        vertical-align: top;\n    }\n\n    .dataframe thead th {\n        text-align: right;\n    }\n</style>\n<table border=\"1\" class=\"dataframe\">\n  <thead>\n    <tr style=\"text-align: right;\">\n      <th></th>\n      <th>ID</th>\n      <th>objective</th>\n      <th>explanatory1</th>\n      <th>explanatory2</th>\n      <th>explanatory3</th>\n    </tr>\n  </thead>\n  <tbody>\n    <tr>\n      <th>0</th>\n      <td>1</td>\n      <td>1</td>\n      <td>1</td>\n      <td>0</td>\n      <td>0</td>\n    </tr>\n    <tr>\n      <th>1</th>\n      <td>2</td>\n      <td>0</td>\n      <td>0</td>\n      <td>1</td>\n      <td>1</td>\n    </tr>\n    <tr>\n      <th>2</th>\n      <td>3</td>\n      <td>0</td>\n      <td>0</td>\n      <td>1</td>\n      <td>1</td>\n    </tr>\n    <tr>\n      <th>3</th>\n      <td>4</td>\n      <td>0</td>\n      <td>0</td>\n      <td>1</td>\n      <td>1</td>\n    </tr>\n    <tr>\n      <th>4</th>\n      <td>5</td>\n      <td>1</td>\n      <td>1</td>\n      <td>0</td>\n      <td>0</td>\n    </tr>\n  </tbody>\n</table>\n</div>",
      "text/plain": "   ID  objective  explanatory1  explanatory2  explanatory3\n0   1          1             1             0             0\n1   2          0             0             1             1\n2   3          0             0             1             1\n3   4          0             0             1             1\n4   5          1             1             0             0"
     },
     "execution_count": 11,
     "metadata": {},
     "output_type": "execute_result"
    }
   ],
   "source": [
    "import pandas as pd\n",
    "\n",
    "data = pd.read_csv('logistic_regression.csv', encoding='utf-8')\n",
    "data.head()"
   ]
  },
  {
   "cell_type": "code",
   "execution_count": 14,
   "metadata": {},
   "outputs": [
    {
     "name": "stdout",
     "output_type": "stream",
     "text": "Logit Regression Results                           \n==============================================================================\nDep. Variable:              objective   No. Observations:                   20\nModel:                          Logit   Df Residuals:                       17\nMethod:                           MLE   Df Model:                            2\nDate:                Sun, 15 Mar 2020   Pseudo R-squ.:                  0.4778\nTime:                        21:47:29   Log-Likelihood:                -7.0291\nconverged:                       True   LL-Null:                       -13.460\n                                        LLR p-value:                  0.001611\n================================================================================\n                   coef    std err          z      P>|z|      [0.025      0.975]\n--------------------------------------------------------------------------------\nexplanatory1     3.1860      1.269      2.512      0.012       0.700       5.672\nexplanatory2    -1.7468      1.317     -1.326      0.185      -4.328       0.834\nexplanatory3    -0.2665      1.091     -0.244      0.807      -2.405       1.872\n================================================================================\n"
    }
   ],
   "source": [
    "import statsmodels.api as sm\n",
    "\n",
    "endog = data['objective']\n",
    "exog = data[['explanatory1', 'explanatory2', 'explanatory3']]\n",
    "logit = sm.Logit(endog, exog)\n",
    "wrapper = logit.fit(disp=0)\n",
    "print(wrapper.summary())"
   ]
  },
  {
   "cell_type": "code",
   "execution_count": null,
   "metadata": {},
   "outputs": [],
   "source": []
  }
 ],
 "metadata": {
  "kernelspec": {
   "name": "python3",
   "display_name": "Python 3"
  }
 },
 "nbformat": 4,
 "nbformat_minor": 2
}